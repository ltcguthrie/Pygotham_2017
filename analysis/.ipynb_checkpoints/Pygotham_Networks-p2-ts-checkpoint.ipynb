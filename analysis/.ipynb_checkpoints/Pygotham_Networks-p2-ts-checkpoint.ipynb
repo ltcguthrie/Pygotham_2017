{
 "cells": [
  {
   "cell_type": "markdown",
   "metadata": {
    "slideshow": {
     "slide_type": "slide"
    }
   },
   "source": [
    "## Bacteria"
   ]
  },
  {
   "cell_type": "code",
   "execution_count": null,
   "metadata": {
    "collapsed": true
   },
   "outputs": [],
   "source": [
    "import matplotlib as mpl\n",
    "import networkx as nx\n",
    "import visJS2jupyter.visJS_module\n",
    "%matplotlib inline\n",
    "\n",
    "B1 = nx.read_gml('../data/kr_ter.gml')\n",
    "\n",
    "nodes = B1.nodes()\n",
    "edges = B1.edges()"
   ]
  },
  {
   "cell_type": "code",
   "execution_count": 11,
   "metadata": {
    "collapsed": false
   },
   "outputs": [],
   "source": [
    "degree = nx.degree_centrality(B1)\n",
    "bc = nx.betweenness_centrality(B1)\n",
    "nx.set_node_attributes(B1,'degree',degree)\n",
    "nx.set_node_attributes(B1,'betweenness_centrality',bc)"
   ]
  },
  {
   "cell_type": "code",
   "execution_count": 13,
   "metadata": {
    "collapsed": false,
    "slideshow": {
     "slide_type": "fragment"
    }
   },
   "outputs": [
    {
     "ename": "ZeroDivisionError",
     "evalue": "float division by zero",
     "output_type": "error",
     "traceback": [
      "\u001b[0;31m---------------------------------------------------------------------------\u001b[0m",
      "\u001b[0;31mZeroDivisionError\u001b[0m                         Traceback (most recent call last)",
      "\u001b[0;32m<ipython-input-13-955db3cd8106>\u001b[0m in \u001b[0;36m<module>\u001b[0;34m()\u001b[0m\n\u001b[1;32m     12\u001b[0m                \u001b[0;34m\"node_label\"\u001b[0m\u001b[0;34m:\u001b[0m\u001b[0mnode_labels\u001b[0m\u001b[0;34m[\u001b[0m\u001b[0mn\u001b[0m\u001b[0;34m]\u001b[0m\u001b[0;34m,\u001b[0m\u001b[0;34m\u001b[0m\u001b[0m\n\u001b[1;32m     13\u001b[0m                \u001b[0;34m\"x\"\u001b[0m\u001b[0;34m:\u001b[0m\u001b[0mpos\u001b[0m\u001b[0;34m[\u001b[0m\u001b[0mn\u001b[0m\u001b[0;34m]\u001b[0m\u001b[0;34m[\u001b[0m\u001b[0;36m0\u001b[0m\u001b[0;34m]\u001b[0m\u001b[0;34m*\u001b[0m\u001b[0;36m1000\u001b[0m\u001b[0;34m,\u001b[0m\u001b[0;34m\u001b[0m\u001b[0m\n\u001b[0;32m---> 14\u001b[0;31m                \"y\":pos[n][1]*1000} for n in nodes]\n\u001b[0m\u001b[1;32m     15\u001b[0m \u001b[0;34m\u001b[0m\u001b[0m\n\u001b[1;32m     16\u001b[0m \u001b[0mnode_map\u001b[0m \u001b[0;34m=\u001b[0m \u001b[0mdict\u001b[0m\u001b[0;34m(\u001b[0m\u001b[0mzip\u001b[0m\u001b[0;34m(\u001b[0m\u001b[0mnodes\u001b[0m\u001b[0;34m,\u001b[0m\u001b[0mrange\u001b[0m\u001b[0;34m(\u001b[0m\u001b[0mlen\u001b[0m\u001b[0;34m(\u001b[0m\u001b[0mnodes\u001b[0m\u001b[0;34m)\u001b[0m\u001b[0;34m)\u001b[0m\u001b[0;34m)\u001b[0m\u001b[0;34m)\u001b[0m  \u001b[0;31m# map to indices for source/target in edges\u001b[0m\u001b[0;34m\u001b[0m\u001b[0m\n",
      "\u001b[0;32m/Users/leahguthrie/anaconda2/lib/python2.7/site-packages/networkx/algorithms/centrality/betweenness.pyc\u001b[0m in \u001b[0;36mbetweenness_centrality\u001b[0;34m(G, k, normalized, weight, endpoints, seed)\u001b[0m\n\u001b[1;32m    118\u001b[0m                            \u001b[0mnormalized\u001b[0m\u001b[0;34m=\u001b[0m\u001b[0mnormalized\u001b[0m\u001b[0;34m,\u001b[0m\u001b[0;34m\u001b[0m\u001b[0m\n\u001b[1;32m    119\u001b[0m                            \u001b[0mdirected\u001b[0m\u001b[0;34m=\u001b[0m\u001b[0mG\u001b[0m\u001b[0;34m.\u001b[0m\u001b[0mis_directed\u001b[0m\u001b[0;34m(\u001b[0m\u001b[0;34m)\u001b[0m\u001b[0;34m,\u001b[0m\u001b[0;34m\u001b[0m\u001b[0m\n\u001b[0;32m--> 120\u001b[0;31m                            k=k)\n\u001b[0m\u001b[1;32m    121\u001b[0m     \u001b[0;32mreturn\u001b[0m \u001b[0mbetweenness\u001b[0m\u001b[0;34m\u001b[0m\u001b[0m\n\u001b[1;32m    122\u001b[0m \u001b[0;34m\u001b[0m\u001b[0m\n",
      "\u001b[0;32m/Users/leahguthrie/anaconda2/lib/python2.7/site-packages/networkx/algorithms/centrality/betweenness.pyc\u001b[0m in \u001b[0;36m_rescale\u001b[0;34m(betweenness, n, normalized, directed, k)\u001b[0m\n\u001b[1;32m    321\u001b[0m     \u001b[0;32mif\u001b[0m \u001b[0mscale\u001b[0m \u001b[0;32mis\u001b[0m \u001b[0;32mnot\u001b[0m \u001b[0mNone\u001b[0m\u001b[0;34m:\u001b[0m\u001b[0;34m\u001b[0m\u001b[0m\n\u001b[1;32m    322\u001b[0m         \u001b[0;32mif\u001b[0m \u001b[0mk\u001b[0m \u001b[0;32mis\u001b[0m \u001b[0;32mnot\u001b[0m \u001b[0mNone\u001b[0m\u001b[0;34m:\u001b[0m\u001b[0;34m\u001b[0m\u001b[0m\n\u001b[0;32m--> 323\u001b[0;31m             \u001b[0mscale\u001b[0m \u001b[0;34m=\u001b[0m \u001b[0mscale\u001b[0m \u001b[0;34m*\u001b[0m \u001b[0mn\u001b[0m \u001b[0;34m/\u001b[0m \u001b[0mk\u001b[0m\u001b[0;34m\u001b[0m\u001b[0m\n\u001b[0m\u001b[1;32m    324\u001b[0m         \u001b[0;32mfor\u001b[0m \u001b[0mv\u001b[0m \u001b[0;32min\u001b[0m \u001b[0mbetweenness\u001b[0m\u001b[0;34m:\u001b[0m\u001b[0;34m\u001b[0m\u001b[0m\n\u001b[1;32m    325\u001b[0m             \u001b[0mbetweenness\u001b[0m\u001b[0;34m[\u001b[0m\u001b[0mv\u001b[0m\u001b[0;34m]\u001b[0m \u001b[0;34m*=\u001b[0m \u001b[0mscale\u001b[0m\u001b[0;34m\u001b[0m\u001b[0m\n",
      "\u001b[0;31mZeroDivisionError\u001b[0m: float division by zero"
     ]
    }
   ],
   "source": [
    "node_to_color = visJS2jupyter.visJS_module.return_node_to_color(B1,field_to_map='betweenness_centrality',cmap=mpl.cm.spring_r,alpha = 1,\n",
    "                                                 color_max_frac = .9,color_min_frac = .1)\n",
    "\n",
    "# set node initial positions using networkx's spring_layout function\n",
    "pos = nx.spring_layout(B1)\n",
    "\n",
    "node_labels = nx.get_node_attributes(B1,'name')\n",
    "\n",
    "nodes_dict = [{\"id\":n,\"color\":node_to_color[n],\n",
    "               #\"degree\":nx.degree(B1,n),\n",
    "               \"betweenness_centrality\":nx.betweenness_centrality(B1,n),\n",
    "               \"node_label\":node_labels[n],\n",
    "               \"x\":pos[n][0]*1000,\n",
    "               \"y\":pos[n][1]*1000} for n in nodes]\n",
    "\n",
    "node_map = dict(zip(nodes,range(len(nodes))))  # map to indices for source/target in edges\n",
    " \n",
    "\n",
    "edges_dict = [{\"source\":node_map[edges[i][0]], \"target\":node_map[edges[i][1]], \n",
    "            \"color\":\"gray\",\"title\":'test'} for i in range(len(edges))]\n",
    "\n",
    "# set some network-wide styles\n",
    "visJS2jupyter.visJS_module.visjs_network(nodes_dict,edges_dict,\n",
    "                          node_size_multiplier=4,\n",
    "                          node_size_transform = '',\n",
    "                          node_color_highlight_border='red',\n",
    "                          node_color_highlight_background='#D3918B',\n",
    "                          node_color_hover_border='blue',\n",
    "                          node_color_hover_background='#8BADD3',\n",
    "                          node_font_size=25,\n",
    "                          node_label_field='node_label',               \n",
    "                          edge_arrow_to=True,\n",
    "                          physics_enabled=False,\n",
    "                          edge_color_highlight='#8A324E',\n",
    "                          edge_color_hover='#8BADD3',\n",
    "                          edge_width=3,\n",
    "                          max_velocity=15,\n",
    "                          min_velocity=1)"
   ]
  },
  {
   "cell_type": "code",
   "execution_count": null,
   "metadata": {
    "collapsed": true
   },
   "outputs": [],
   "source": []
  },
  {
   "cell_type": "code",
   "execution_count": null,
   "metadata": {
    "collapsed": true
   },
   "outputs": [],
   "source": []
  },
  {
   "cell_type": "code",
   "execution_count": 5,
   "metadata": {
    "collapsed": true
   },
   "outputs": [],
   "source": [
    "?visJS2jupyter.visJS_module.visjs_network()"
   ]
  },
  {
   "cell_type": "code",
   "execution_count": null,
   "metadata": {
    "collapsed": true
   },
   "outputs": [],
   "source": []
  },
  {
   "cell_type": "code",
   "execution_count": null,
   "metadata": {
    "collapsed": true
   },
   "outputs": [],
   "source": []
  }
 ],
 "metadata": {
  "anaconda-cloud": {},
  "kernelspec": {
   "display_name": "Python [conda root]",
   "language": "python",
   "name": "conda-root-py"
  },
  "language_info": {
   "codemirror_mode": {
    "name": "ipython",
    "version": 2
   },
   "file_extension": ".py",
   "mimetype": "text/x-python",
   "name": "python",
   "nbconvert_exporter": "python",
   "pygments_lexer": "ipython2",
   "version": "2.7.12"
  },
  "nbpresent": {
   "slides": {
    "2c17af52-e36c-4784-b15d-9db42dda9cb4": {
     "id": "2c17af52-e36c-4784-b15d-9db42dda9cb4",
     "prev": null,
     "regions": {
      "e0f7d326-5d91-4621-8615-327c8c82a08a": {
       "attrs": {
        "height": 1,
        "width": 1,
        "x": 0,
        "y": 0
       },
       "id": "e0f7d326-5d91-4621-8615-327c8c82a08a"
      }
     }
    }
   },
   "themes": {}
  }
 },
 "nbformat": 4,
 "nbformat_minor": 1
}
