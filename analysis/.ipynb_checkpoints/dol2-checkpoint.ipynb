{
 "cells": [
  {
   "cell_type": "code",
   "execution_count": 1,
   "metadata": {
    "collapsed": true
   },
   "outputs": [],
   "source": [
    "import matplotlib as mpl\n",
    "import networkx as nx\n",
    "import visJS2jupyter.visJS_module\n",
    "%matplotlib inline\n"
   ]
  },
  {
   "cell_type": "code",
   "execution_count": 2,
   "metadata": {
    "collapsed": true
   },
   "outputs": [],
   "source": [
    "Gd = nx.read_gml('../data/dolphins.gml')"
   ]
  },
  {
   "cell_type": "code",
   "execution_count": 3,
   "metadata": {
    "collapsed": true
   },
   "outputs": [],
   "source": [
    "nodes = Gd.nodes()\n",
    "edges = Gd.edges()"
   ]
  },
  {
   "cell_type": "code",
   "execution_count": 4,
   "metadata": {
    "collapsed": true
   },
   "outputs": [],
   "source": [
    "degree = Gd.degree()\n",
    "nx.set_node_attributes(Gd,'degree',degree)"
   ]
  },
  {
   "cell_type": "code",
   "execution_count": 5,
   "metadata": {
    "collapsed": true
   },
   "outputs": [],
   "source": [
    "close_cen = nx.closeness_centrality(Gd)\n",
    "nx.set_node_attributes(Gd,'close_c',close_cen)"
   ]
  },
  {
   "cell_type": "code",
   "execution_count": 6,
   "metadata": {
    "collapsed": true
   },
   "outputs": [],
   "source": [
    "bc = nx.betweenness_centrality(Gd)\n",
    "nx.set_node_attributes(Gd,'betweenness_centrality',bc)"
   ]
  },
  {
   "cell_type": "code",
   "execution_count": 12,
   "metadata": {
    "collapsed": true
   },
   "outputs": [],
   "source": [
    "export_file='network.json'"
   ]
  },
  {
   "cell_type": "code",
   "execution_count": null,
   "metadata": {
    "collapsed": true
   },
   "outputs": [],
   "source": []
  },
  {
   "cell_type": "code",
   "execution_count": 14,
   "metadata": {
    "collapsed": false
   },
   "outputs": [
    {
     "data": {
      "text/html": [
       "<!doctype html><html><head>  <title>Network | Basic usage</title></head><body><script type=\"text/javascript\">function setUpFrame() {     var frame = window.frames[\"style_file0\"];    frame.runVis([{\"node_label\": \"Beak\", \"node_shape\": \"dot\", \"degree\": 6, \"title\": 0, \"color\": \"rgba(256, 214, 41, 1)\", \"y\": 155.36468714666358, \"x\": 330.07474786141125, \"border_width\": 0, \"id\": 0}, {\"node_label\": \"Beescratch\", \"node_shape\": \"dot\", \"degree\": 8, \"title\": 1, \"color\": \"rgba(256, 54, 201, 1)\", \"y\": 686.88889839669787, \"x\": 201.4331970181766, \"border_width\": 0, \"id\": 1}, {\"node_label\": \"Bumper\", \"node_shape\": \"dot\", \"degree\": 4, \"title\": 2, \"color\": \"rgba(256, 222, 33, 1)\", \"y\": 0.0, \"x\": 420.42981950583828, \"border_width\": 0, \"id\": 2}, {\"node_label\": \"CCL\", \"node_shape\": \"dot\", \"degree\": 3, \"title\": 3, \"color\": \"rgba(256, 228, 27, 1)\", \"y\": 96.200166377478652, \"x\": 216.82619156942076, \"border_width\": 0, \"id\": 3}, {\"node_label\": \"Cross\", \"node_shape\": \"dot\", \"degree\": 1, \"title\": 4, \"color\": \"rgba(256, 230, 25, 1)\", \"y\": 101.69846024835651, \"x\": 754.57496283214573, \"border_width\": 0, \"id\": 4}, {\"node_label\": \"DN16\", \"node_shape\": \"dot\", \"degree\": 4, \"title\": 5, \"color\": \"rgba(256, 226, 29, 1)\", \"y\": 970.06127205259679, \"x\": 274.83151383266653, \"border_width\": 0, \"id\": 5}, {\"node_label\": \"DN21\", \"node_shape\": \"dot\", \"degree\": 6, \"title\": 6, \"color\": \"rgba(256, 206, 49, 1)\", \"y\": 986.47275568333873, \"x\": 317.01827147847735, \"border_width\": 0, \"id\": 6}, {\"node_label\": \"DN63\", \"node_shape\": \"dot\", \"degree\": 5, \"title\": 7, \"color\": \"rgba(256, 132, 123, 1)\", \"y\": 548.43246069190116, \"x\": 200.2233682218793, \"border_width\": 0, \"id\": 7}, {\"node_label\": \"Double\", \"node_shape\": \"dot\", \"degree\": 6, \"title\": 8, \"color\": \"rgba(256, 211, 44, 1)\", \"y\": 226.671651926457, \"x\": 278.66351154544424, \"border_width\": 0, \"id\": 8}, {\"node_label\": \"Feather\", \"node_shape\": \"dot\", \"degree\": 7, \"title\": 9, \"color\": \"rgba(256, 213, 42, 1)\", \"y\": 970.34760410332535, \"x\": 438.76508293610971, \"border_width\": 0, \"id\": 9}, {\"node_label\": \"Fish\", \"node_shape\": \"dot\", \"degree\": 5, \"title\": 10, \"color\": \"rgba(256, 217, 38, 1)\", \"y\": 31.182923479534612, \"x\": 295.70856823093391, \"border_width\": 0, \"id\": 10}, {\"node_label\": \"Five\", \"node_shape\": \"dot\", \"degree\": 1, \"title\": 11, \"color\": \"rgba(256, 230, 25, 1)\", \"y\": 439.67800126304076, \"x\": 963.61644539786107, \"border_width\": 0, \"id\": 11}, {\"node_label\": \"Fork\", \"node_shape\": \"dot\", \"degree\": 1, \"title\": 12, \"color\": \"rgba(256, 230, 25, 1)\", \"y\": 277.63605914408561, \"x\": 917.82231530188619, \"border_width\": 0, \"id\": 12}, {\"node_label\": \"Gallatin\", \"node_shape\": \"dot\", \"degree\": 8, \"title\": 13, \"color\": \"rgba(256, 186, 69, 1)\", \"y\": 982.85403848129681, \"x\": 368.83966993770343, \"border_width\": 0, \"id\": 13}, {\"node_label\": \"Grin\", \"node_shape\": \"dot\", \"degree\": 12, \"title\": 14, \"color\": \"rgba(256, 179, 76, 1)\", \"y\": 149.4110812483853, \"x\": 568.88796475311233, \"border_width\": 0, \"id\": 14}, {\"node_label\": \"Haecksel\", \"node_shape\": \"dot\", \"degree\": 7, \"title\": 15, \"color\": \"rgba(256, 202, 53, 1)\", \"y\": 425.31299253916796, \"x\": 480.2932139596241, \"border_width\": 0, \"id\": 15}, {\"node_label\": \"Hook\", \"node_shape\": \"dot\", \"degree\": 6, \"title\": 16, \"color\": \"rgba(256, 227, 28, 1)\", \"y\": 50.148684799343989, \"x\": 551.04164382583201, \"border_width\": 0, \"id\": 16}, {\"node_label\": \"Jet\", \"node_shape\": \"dot\", \"degree\": 9, \"title\": 17, \"color\": \"rgba(256, 136, 119, 1)\", \"y\": 904.91469007074681, \"x\": 273.57222385612954, \"border_width\": 0, \"id\": 17}, {\"node_label\": \"Jonah\", \"node_shape\": \"dot\", \"degree\": 7, \"title\": 18, \"color\": \"rgba(256, 218, 37, 1)\", \"y\": 392.39041633090278, \"x\": 570.71740759101749, \"border_width\": 0, \"id\": 18}, {\"node_label\": \"Knit\", \"node_shape\": \"dot\", \"degree\": 4, \"title\": 19, \"color\": \"rgba(256, 219, 36, 1)\", \"y\": 605.61724703322011, \"x\": 156.98419328675942, \"border_width\": 0, \"id\": 19}, {\"node_label\": \"Kringel\", \"node_shape\": \"dot\", \"degree\": 9, \"title\": 20, \"color\": \"rgba(256, 145, 110, 1)\", \"y\": 194.84998309230571, \"x\": 402.01331300062839, \"border_width\": 0, \"id\": 20}, {\"node_label\": \"MN105\", \"node_shape\": \"dot\", \"degree\": 6, \"title\": 21, \"color\": \"rgba(256, 219, 36, 1)\", \"y\": 368.76457383866938, \"x\": 666.30531817523763, \"border_width\": 0, \"id\": 21}, {\"node_label\": \"MN23\", \"node_shape\": \"dot\", \"degree\": 1, \"title\": 22, \"color\": \"rgba(256, 230, 25, 1)\", \"y\": 779.15811113752045, \"x\": 38.554252872583518, \"border_width\": 0, \"id\": 22}, {\"node_label\": \"MN60\", \"node_shape\": \"dot\", \"degree\": 3, \"title\": 23, \"color\": \"rgba(256, 195, 60, 1)\", \"y\": 551.49146643406687, \"x\": 581.28159980402825, \"border_width\": 0, \"id\": 23}, {\"node_label\": \"MN83\", \"node_shape\": \"dot\", \"degree\": 6, \"title\": 24, \"color\": \"rgba(256, 224, 31, 1)\", \"y\": 323.39071558350355, \"x\": 615.81743366582668, \"border_width\": 0, \"id\": 24}, {\"node_label\": \"Mus\", \"node_shape\": \"dot\", \"degree\": 3, \"title\": 25, \"color\": \"rgba(256, 229, 26, 1)\", \"y\": 830.43025388906824, \"x\": 83.440067708906852, \"border_width\": 0, \"id\": 25}, {\"node_label\": \"Notch\", \"node_shape\": \"dot\", \"degree\": 3, \"title\": 26, \"color\": \"rgba(256, 226, 29, 1)\", \"y\": 857.3305190481791, \"x\": 118.66239477229955, \"border_width\": 0, \"id\": 26}, {\"node_label\": \"Number1\", \"node_shape\": \"dot\", \"degree\": 5, \"title\": 27, \"color\": \"rgba(256, 206, 49, 1)\", \"y\": 766.11117726077077, \"x\": 93.309716078271222, \"border_width\": 0, \"id\": 27}, {\"node_label\": \"Oscar\", \"node_shape\": \"dot\", \"degree\": 5, \"title\": 28, \"color\": \"rgba(256, 175, 80, 1)\", \"y\": 328.60441474425875, \"x\": 116.57899107967576, \"border_width\": 0, \"id\": 28}, {\"node_label\": \"Patchback\", \"node_shape\": \"dot\", \"degree\": 9, \"title\": 29, \"color\": \"rgba(256, 176, 79, 1)\", \"y\": 214.20391865137029, \"x\": 507.42152779597052, \"border_width\": 0, \"id\": 29}, {\"node_label\": \"PL\", \"node_shape\": \"dot\", \"degree\": 5, \"title\": 30, \"color\": \"rgba(256, 203, 52, 1)\", \"y\": 380.47331689915228, \"x\": 102.17080358523815, \"border_width\": 0, \"id\": 30}, {\"node_label\": \"Quasi\", \"node_shape\": \"dot\", \"degree\": 1, \"title\": 31, \"color\": \"rgba(256, 230, 25, 1)\", \"y\": 981.62594247768243, \"x\": 622.24959364280812, \"border_width\": 0, \"id\": 31}, {\"node_label\": \"Ripplefluke\", \"node_shape\": \"dot\", \"degree\": 3, \"title\": 32, \"color\": \"rgba(256, 203, 52, 1)\", \"y\": 1000.0, \"x\": 449.81485882452853, \"border_width\": 0, \"id\": 32}, {\"node_label\": \"Scabs\", \"node_shape\": \"dot\", \"degree\": 10, \"title\": 33, \"color\": \"rgba(256, 183, 72, 1)\", \"y\": 200.25073780826116, \"x\": 695.22177265127209, \"border_width\": 0, \"id\": 33}, {\"node_label\": \"Shmuddel\", \"node_shape\": \"dot\", \"degree\": 5, \"title\": 34, \"color\": \"rgba(256, 203, 52, 1)\", \"y\": 214.64019262096514, \"x\": 828.59834747681066, \"border_width\": 0, \"id\": 34}, {\"node_label\": \"SMN5\", \"node_shape\": \"dot\", \"degree\": 1, \"title\": 35, \"color\": \"rgba(256, 230, 25, 1)\", \"y\": 105.5218702789891, \"x\": 152.91066780806062, \"border_width\": 0, \"id\": 35}, {\"node_label\": \"SN100\", \"node_shape\": \"dot\", \"degree\": 7, \"title\": 36, \"color\": \"rgba(256, 25, 230, 1)\", \"y\": 453.52465552318102, \"x\": 329.08889263501442, \"border_width\": 0, \"id\": 36}, {\"node_label\": \"SN4\", \"node_shape\": \"dot\", \"degree\": 11, \"title\": 37, \"color\": \"rgba(256, 116, 139, 1)\", \"y\": 236.73184391464196, \"x\": 571.60730295554197, \"border_width\": 0, \"id\": 37}, {\"node_label\": \"SN63\", \"node_shape\": \"dot\", \"degree\": 8, \"title\": 38, \"color\": \"rgba(256, 192, 63, 1)\", \"y\": 132.47124950848448, \"x\": 721.99359837031773, \"border_width\": 0, \"id\": 38}, {\"node_label\": \"SN89\", \"node_shape\": \"dot\", \"degree\": 2, \"title\": 39, \"color\": \"rgba(256, 172, 83, 1)\", \"y\": 624.56528459507217, \"x\": 48.282845296679717, \"border_width\": 0, \"id\": 39}, {\"node_label\": \"SN9\", \"node_shape\": \"dot\", \"degree\": 8, \"title\": 40, \"color\": \"rgba(256, 112, 143, 1)\", \"y\": 292.53901867488304, \"x\": 435.48270544091514, \"border_width\": 0, \"id\": 40}, {\"node_label\": \"SN90\", \"node_shape\": \"dot\", \"degree\": 5, \"title\": 41, \"color\": \"rgba(256, 211, 44, 1)\", \"y\": 901.23920176448792, \"x\": 350.61385344469323, \"border_width\": 0, \"id\": 41}, {\"node_label\": \"SN96\", \"node_shape\": \"dot\", \"degree\": 6, \"title\": 42, \"color\": \"rgba(256, 206, 49, 1)\", \"y\": 92.588139854297779, \"x\": 250.84021418674479, \"border_width\": 0, \"id\": 42}, {\"node_label\": \"Stripes\", \"node_shape\": \"dot\", \"degree\": 7, \"title\": 43, \"color\": \"rgba(256, 178, 77, 1)\", \"y\": 284.57364801785582, \"x\": 782.95076510201159, \"border_width\": 0, \"id\": 43}, {\"node_label\": \"Thumper\", \"node_shape\": \"dot\", \"degree\": 4, \"title\": 44, \"color\": \"rgba(256, 220, 35, 1)\", \"y\": 45.085406084896633, \"x\": 634.51776324058051, \"border_width\": 0, \"id\": 44}, {\"node_label\": \"Topless\", \"node_shape\": \"dot\", \"degree\": 11, \"title\": 45, \"color\": \"rgba(256, 196, 59, 1)\", \"y\": 341.3172007527308, \"x\": 496.71325985285262, \"border_width\": 0, \"id\": 45}, {\"node_label\": \"TR120\", \"node_shape\": \"dot\", \"degree\": 2, \"title\": 46, \"color\": \"rgba(256, 227, 28, 1)\", \"y\": 570.13413690040045, \"x\": 960.49958316329469, \"border_width\": 0, \"id\": 46}, {\"node_label\": \"TR77\", \"node_shape\": \"dot\", \"degree\": 6, \"title\": 47, \"color\": \"rgba(256, 211, 44, 1)\", \"y\": 181.68154312366156, \"x\": 138.95553221043571, \"border_width\": 0, \"id\": 47}, {\"node_label\": \"TR82\", \"node_shape\": \"dot\", \"degree\": 1, \"title\": 48, \"color\": \"rgba(256, 230, 25, 1)\", \"y\": 701.40901582068284, \"x\": 0.0, \"border_width\": 0, \"id\": 48}, {\"node_label\": \"TR88\", \"node_shape\": \"dot\", \"degree\": 2, \"title\": 49, \"color\": \"rgba(256, 229, 26, 1)\", \"y\": 492.64451348046458, \"x\": 966.13823985019303, \"border_width\": 0, \"id\": 49}, {\"node_label\": \"TR99\", \"node_shape\": \"dot\", \"degree\": 7, \"title\": 50, \"color\": \"rgba(256, 202, 53, 1)\", \"y\": 126.30154777347713, \"x\": 498.37418146030103, \"border_width\": 0, \"id\": 50}, {\"node_label\": \"Trigger\", \"node_shape\": \"dot\", \"degree\": 10, \"title\": 51, \"color\": \"rgba(256, 160, 95, 1)\", \"y\": 361.01338711238424, \"x\": 714.79193909794037, \"border_width\": 0, \"id\": 51}, {\"node_label\": \"TSN103\", \"node_shape\": \"dot\", \"degree\": 4, \"title\": 52, \"color\": \"rgba(256, 214, 41, 1)\", \"y\": 86.565408775044133, \"x\": 642.74778620432357, \"border_width\": 0, \"id\": 52}, {\"node_label\": \"TSN83\", \"node_shape\": \"dot\", \"degree\": 2, \"title\": 53, \"color\": \"rgba(256, 229, 26, 1)\", \"y\": 139.90541108283981, \"x\": 813.88964477183833, \"border_width\": 0, \"id\": 53}, {\"node_label\": \"Upbang\", \"node_shape\": \"dot\", \"degree\": 7, \"title\": 54, \"color\": \"rgba(256, 148, 107, 1)\", \"y\": 800.40615470650789, \"x\": 263.32997070840321, \"border_width\": 0, \"id\": 54}, {\"node_label\": \"Vau\", \"node_shape\": \"dot\", \"degree\": 2, \"title\": 55, \"color\": \"rgba(256, 229, 26, 1)\", \"y\": 591.23500062093058, \"x\": 765.44152904121086, \"border_width\": 0, \"id\": 55}, {\"node_label\": \"Wave\", \"node_shape\": \"dot\", \"degree\": 2, \"title\": 56, \"color\": \"rgba(256, 230, 25, 1)\", \"y\": 928.28968648761804, \"x\": 192.60109085086776, \"border_width\": 0, \"id\": 56}, {\"node_label\": \"Web\", \"node_shape\": \"dot\", \"degree\": 9, \"title\": 57, \"color\": \"rgba(256, 160, 95, 1)\", \"y\": 875.15536855077221, \"x\": 208.22857717284427, \"border_width\": 0, \"id\": 57}, {\"node_label\": \"Whitetip\", \"node_shape\": \"dot\", \"degree\": 1, \"title\": 58, \"color\": \"rgba(256, 230, 25, 1)\", \"y\": 334.52969938666047, \"x\": 942.60469304870708, \"border_width\": 0, \"id\": 58}, {\"node_label\": \"Zap\", \"node_shape\": \"dot\", \"degree\": 5, \"title\": 59, \"color\": \"rgba(256, 213, 42, 1)\", \"y\": 319.77508455939488, \"x\": 264.8219421256353, \"border_width\": 0, \"id\": 59}, {\"node_label\": \"Zig\", \"node_shape\": \"dot\", \"degree\": 1, \"title\": 60, \"color\": \"rgba(256, 230, 25, 1)\", \"y\": 995.34211950885174, \"x\": 584.86416743724783, \"border_width\": 0, \"id\": 60}, {\"node_label\": \"Zipfel\", \"node_shape\": \"dot\", \"degree\": 3, \"title\": 61, \"color\": \"rgba(256, 218, 37, 1)\", \"y\": 15.882224634108789, \"x\": 590.56220563507839, \"border_width\": 0, \"id\": 61}], [{\"color\": \"gray\", \"source\": 0, \"target\": 40, \"title\": \"test\"}, {\"color\": \"gray\", \"source\": 0, \"target\": 10, \"title\": \"test\"}, {\"color\": \"gray\", \"source\": 0, \"target\": 14, \"title\": \"test\"}, {\"color\": \"gray\", \"source\": 0, \"target\": 15, \"title\": \"test\"}, {\"color\": \"gray\", \"source\": 0, \"target\": 47, \"title\": \"test\"}, {\"color\": \"gray\", \"source\": 0, \"target\": 42, \"title\": \"test\"}, {\"color\": \"gray\", \"source\": 1, \"target\": 36, \"title\": \"test\"}, {\"color\": \"gray\", \"source\": 1, \"target\": 41, \"title\": \"test\"}, {\"color\": \"gray\", \"source\": 1, \"target\": 17, \"title\": \"test\"}, {\"color\": \"gray\", \"source\": 1, \"target\": 19, \"title\": \"test\"}, {\"color\": \"gray\", \"source\": 1, \"target\": 54, \"title\": \"test\"}, {\"color\": \"gray\", \"source\": 1, \"target\": 26, \"title\": \"test\"}, {\"color\": \"gray\", \"source\": 1, \"target\": 27, \"title\": \"test\"}, {\"color\": \"gray\", \"source\": 1, \"target\": 28, \"title\": \"test\"}, {\"color\": \"gray\", \"source\": 2, \"target\": 10, \"title\": \"test\"}, {\"color\": \"gray\", \"source\": 2, \"target\": 44, \"title\": \"test\"}, {\"color\": \"gray\", \"source\": 2, \"target\": 42, \"title\": \"test\"}, {\"color\": \"gray\", \"source\": 2, \"target\": 61, \"title\": \"test\"}, {\"color\": \"gray\", \"source\": 3, \"target\": 8, \"title\": \"test\"}, {\"color\": \"gray\", \"source\": 3, \"target\": 59, \"title\": \"test\"}, {\"color\": \"gray\", \"source\": 3, \"target\": 14, \"title\": \"test\"}, {\"color\": \"gray\", \"source\": 4, \"target\": 51, \"title\": \"test\"}, {\"color\": \"gray\", \"source\": 5, \"target\": 56, \"title\": \"test\"}, {\"color\": \"gray\", \"source\": 5, \"target\": 9, \"title\": \"test\"}, {\"color\": \"gray\", \"source\": 5, \"target\": 13, \"title\": \"test\"}, {\"color\": \"gray\", \"source\": 5, \"target\": 57, \"title\": \"test\"}, {\"color\": \"gray\", \"source\": 6, \"target\": 9, \"title\": \"test\"}, {\"color\": \"gray\", \"source\": 6, \"target\": 13, \"title\": \"test\"}, {\"color\": \"gray\", \"source\": 6, \"target\": 17, \"title\": \"test\"}, {\"color\": \"gray\", \"source\": 6, \"target\": 54, \"title\": \"test\"}, {\"color\": \"gray\", \"source\": 6, \"target\": 56, \"title\": \"test\"}, {\"color\": \"gray\", \"source\": 6, \"target\": 57, \"title\": \"test\"}, {\"color\": \"gray\", \"source\": 7, \"target\": 40, \"title\": \"test\"}, {\"color\": \"gray\", \"source\": 7, \"target\": 19, \"title\": \"test\"}, {\"color\": \"gray\", \"source\": 7, \"target\": 27, \"title\": \"test\"}, {\"color\": \"gray\", \"source\": 7, \"target\": 30, \"title\": \"test\"}, {\"color\": \"gray\", \"source\": 7, \"target\": 54, \"title\": \"test\"}, {\"color\": \"gray\", \"source\": 8, \"target\": 37, \"title\": \"test\"}, {\"color\": \"gray\", \"source\": 8, \"target\": 45, \"title\": \"test\"}, {\"color\": \"gray\", \"source\": 8, \"target\": 20, \"title\": \"test\"}, {\"color\": \"gray\", \"source\": 8, \"target\": 59, \"title\": \"test\"}, {\"color\": \"gray\", \"source\": 8, \"target\": 28, \"title\": \"test\"}, {\"color\": \"gray\", \"source\": 9, \"target\": 32, \"title\": \"test\"}, {\"color\": \"gray\", \"source\": 9, \"target\": 41, \"title\": \"test\"}, {\"color\": \"gray\", \"source\": 9, \"target\": 13, \"title\": \"test\"}, {\"color\": \"gray\", \"source\": 9, \"target\": 17, \"title\": \"test\"}, {\"color\": \"gray\", \"source\": 9, \"target\": 57, \"title\": \"test\"}, {\"color\": \"gray\", \"source\": 10, \"target\": 47, \"title\": \"test\"}, {\"color\": \"gray\", \"source\": 10, \"target\": 42, \"title\": \"test\"}, {\"color\": \"gray\", \"source\": 10, \"target\": 29, \"title\": \"test\"}, {\"color\": \"gray\", \"source\": 11, \"target\": 51, \"title\": \"test\"}, {\"color\": \"gray\", \"source\": 12, \"target\": 33, \"title\": \"test\"}, {\"color\": \"gray\", \"source\": 13, \"target\": 32, \"title\": \"test\"}, {\"color\": \"gray\", \"source\": 13, \"target\": 17, \"title\": \"test\"}, {\"color\": \"gray\", \"source\": 13, \"target\": 54, \"title\": \"test\"}, {\"color\": \"gray\", \"source\": 13, \"target\": 41, \"title\": \"test\"}, {\"color\": \"gray\", \"source\": 13, \"target\": 57, \"title\": \"test\"}, {\"color\": \"gray\", \"source\": 14, \"target\": 33, \"title\": \"test\"}, {\"color\": \"gray\", \"source\": 14, \"target\": 34, \"title\": \"test\"}, {\"color\": \"gray\", \"source\": 14, \"target\": 37, \"title\": \"test\"}, {\"color\": \"gray\", \"source\": 14, \"target\": 38, \"title\": \"test\"}, {\"color\": \"gray\", \"source\": 14, \"target\": 40, \"title\": \"test\"}, {\"color\": \"gray\", \"source\": 14, \"target\": 43, \"title\": \"test\"}, {\"color\": \"gray\", \"source\": 14, \"target\": 16, \"title\": \"test\"}, {\"color\": \"gray\", \"source\": 14, \"target\": 50, \"title\": \"test\"}, {\"color\": \"gray\", \"source\": 14, \"target\": 52, \"title\": \"test\"}, {\"color\": \"gray\", \"source\": 14, \"target\": 24, \"title\": \"test\"}, {\"color\": \"gray\", \"source\": 15, \"target\": 40, \"title\": \"test\"}, {\"color\": \"gray\", \"source\": 15, \"target\": 45, \"title\": \"test\"}, {\"color\": \"gray\", \"source\": 15, \"target\": 18, \"title\": \"test\"}, {\"color\": \"gray\", \"source\": 15, \"target\": 55, \"title\": \"test\"}, {\"color\": \"gray\", \"source\": 15, \"target\": 24, \"title\": \"test\"}, {\"color\": \"gray\", \"source\": 15, \"target\": 59, \"title\": \"test\"}, {\"color\": \"gray\", \"source\": 16, \"target\": 33, \"title\": \"test\"}, {\"color\": \"gray\", \"source\": 16, \"target\": 37, \"title\": \"test\"}, {\"color\": \"gray\", \"source\": 16, \"target\": 38, \"title\": \"test\"}, {\"color\": \"gray\", \"source\": 16, \"target\": 50, \"title\": \"test\"}, {\"color\": \"gray\", \"source\": 16, \"target\": 20, \"title\": \"test\"}, {\"color\": \"gray\", \"source\": 17, \"target\": 22, \"title\": \"test\"}, {\"color\": \"gray\", \"source\": 17, \"target\": 25, \"title\": \"test\"}, {\"color\": \"gray\", \"source\": 17, \"target\": 57, \"title\": \"test\"}, {\"color\": \"gray\", \"source\": 17, \"target\": 27, \"title\": \"test\"}, {\"color\": \"gray\", \"source\": 17, \"target\": 31, \"title\": \"test\"}, {\"color\": \"gray\", \"source\": 18, \"target\": 45, \"title\": \"test\"}, {\"color\": \"gray\", \"source\": 18, \"target\": 51, \"title\": \"test\"}, {\"color\": \"gray\", \"source\": 18, \"target\": 20, \"title\": \"test\"}, {\"color\": \"gray\", \"source\": 18, \"target\": 21, \"title\": \"test\"}, {\"color\": \"gray\", \"source\": 18, \"target\": 24, \"title\": \"test\"}, {\"color\": \"gray\", \"source\": 18, \"target\": 29, \"title\": \"test\"}, {\"color\": \"gray\", \"source\": 19, \"target\": 30, \"title\": \"test\"}, {\"color\": \"gray\", \"source\": 19, \"target\": 54, \"title\": \"test\"}, {\"color\": \"gray\", \"source\": 20, \"target\": 36, \"title\": \"test\"}, {\"color\": \"gray\", \"source\": 20, \"target\": 38, \"title\": \"test\"}, {\"color\": \"gray\", \"source\": 20, \"target\": 44, \"title\": \"test\"}, {\"color\": \"gray\", \"source\": 20, \"target\": 50, \"title\": \"test\"}, {\"color\": \"gray\", \"source\": 20, \"target\": 47, \"title\": \"test\"}, {\"color\": \"gray\", \"source\": 20, \"target\": 28, \"title\": \"test\"}, {\"color\": \"gray\", \"source\": 21, \"target\": 33, \"title\": \"test\"}, {\"color\": \"gray\", \"source\": 21, \"target\": 37, \"title\": \"test\"}, {\"color\": \"gray\", \"source\": 21, \"target\": 45, \"title\": \"test\"}, {\"color\": \"gray\", \"source\": 21, \"target\": 51, \"title\": \"test\"}, {\"color\": \"gray\", \"source\": 21, \"target\": 29, \"title\": \"test\"}, {\"color\": \"gray\", \"source\": 23, \"target\": 51, \"title\": \"test\"}, {\"color\": \"gray\", \"source\": 23, \"target\": 36, \"title\": \"test\"}, {\"color\": \"gray\", \"source\": 23, \"target\": 45, \"title\": \"test\"}, {\"color\": \"gray\", \"source\": 24, \"target\": 45, \"title\": \"test\"}, {\"color\": \"gray\", \"source\": 24, \"target\": 51, \"title\": \"test\"}, {\"color\": \"gray\", \"source\": 24, \"target\": 29, \"title\": \"test\"}, {\"color\": \"gray\", \"source\": 25, \"target\": 26, \"title\": \"test\"}, {\"color\": \"gray\", \"source\": 25, \"target\": 27, \"title\": \"test\"}, {\"color\": \"gray\", \"source\": 26, \"target\": 27, \"title\": \"test\"}, {\"color\": \"gray\", \"source\": 28, \"target\": 30, \"title\": \"test\"}, {\"color\": \"gray\", \"source\": 28, \"target\": 47, \"title\": \"test\"}, {\"color\": \"gray\", \"source\": 29, \"target\": 35, \"title\": \"test\"}, {\"color\": \"gray\", \"source\": 29, \"target\": 43, \"title\": \"test\"}, {\"color\": \"gray\", \"source\": 29, \"target\": 45, \"title\": \"test\"}, {\"color\": \"gray\", \"source\": 29, \"target\": 51, \"title\": \"test\"}, {\"color\": \"gray\", \"source\": 29, \"target\": 52, \"title\": \"test\"}, {\"color\": \"gray\", \"source\": 30, \"target\": 47, \"title\": \"test\"}, {\"color\": \"gray\", \"source\": 30, \"target\": 42, \"title\": \"test\"}, {\"color\": \"gray\", \"source\": 32, \"target\": 60, \"title\": \"test\"}, {\"color\": \"gray\", \"source\": 33, \"target\": 34, \"title\": \"test\"}, {\"color\": \"gray\", \"source\": 33, \"target\": 37, \"title\": \"test\"}, {\"color\": \"gray\", \"source\": 33, \"target\": 38, \"title\": \"test\"}, {\"color\": \"gray\", \"source\": 33, \"target\": 40, \"title\": \"test\"}, {\"color\": \"gray\", \"source\": 33, \"target\": 43, \"title\": \"test\"}, {\"color\": \"gray\", \"source\": 33, \"target\": 50, \"title\": \"test\"}, {\"color\": \"gray\", \"source\": 34, \"target\": 44, \"title\": \"test\"}, {\"color\": \"gray\", \"source\": 34, \"target\": 37, \"title\": \"test\"}, {\"color\": \"gray\", \"source\": 34, \"target\": 49, \"title\": \"test\"}, {\"color\": \"gray\", \"source\": 36, \"target\": 37, \"title\": \"test\"}, {\"color\": \"gray\", \"source\": 36, \"target\": 39, \"title\": \"test\"}, {\"color\": \"gray\", \"source\": 36, \"target\": 40, \"title\": \"test\"}, {\"color\": \"gray\", \"source\": 36, \"target\": 59, \"title\": \"test\"}, {\"color\": \"gray\", \"source\": 37, \"target\": 43, \"title\": \"test\"}, {\"color\": \"gray\", \"source\": 37, \"target\": 45, \"title\": \"test\"}, {\"color\": \"gray\", \"source\": 37, \"target\": 40, \"title\": \"test\"}, {\"color\": \"gray\", \"source\": 37, \"target\": 61, \"title\": \"test\"}, {\"color\": \"gray\", \"source\": 38, \"target\": 43, \"title\": \"test\"}, {\"color\": \"gray\", \"source\": 38, \"target\": 44, \"title\": \"test\"}, {\"color\": \"gray\", \"source\": 38, \"target\": 52, \"title\": \"test\"}, {\"color\": \"gray\", \"source\": 38, \"target\": 58, \"title\": \"test\"}, {\"color\": \"gray\", \"source\": 39, \"target\": 57, \"title\": \"test\"}, {\"color\": \"gray\", \"source\": 40, \"target\": 52, \"title\": \"test\"}, {\"color\": \"gray\", \"source\": 41, \"target\": 57, \"title\": \"test\"}, {\"color\": \"gray\", \"source\": 41, \"target\": 54, \"title\": \"test\"}, {\"color\": \"gray\", \"source\": 42, \"target\": 47, \"title\": \"test\"}, {\"color\": \"gray\", \"source\": 42, \"target\": 50, \"title\": \"test\"}, {\"color\": \"gray\", \"source\": 43, \"target\": 46, \"title\": \"test\"}, {\"color\": \"gray\", \"source\": 43, \"target\": 53, \"title\": \"test\"}, {\"color\": \"gray\", \"source\": 45, \"target\": 50, \"title\": \"test\"}, {\"color\": \"gray\", \"source\": 45, \"target\": 51, \"title\": \"test\"}, {\"color\": \"gray\", \"source\": 45, \"target\": 59, \"title\": \"test\"}, {\"color\": \"gray\", \"source\": 46, \"target\": 49, \"title\": \"test\"}, {\"color\": \"gray\", \"source\": 48, \"target\": 57, \"title\": \"test\"}, {\"color\": \"gray\", \"source\": 50, \"target\": 51, \"title\": \"test\"}, {\"color\": \"gray\", \"source\": 51, \"target\": 55, \"title\": \"test\"}, {\"color\": \"gray\", \"source\": 53, \"target\": 61, \"title\": \"test\"}, {\"color\": \"gray\", \"source\": 54, \"target\": 57, \"title\": \"test\"}]);}</script><iframe name=\"style_file0\" src=\"style_file0.html\" height=\"1200px\" width=\"100%;\"></iframe></body></html>"
      ],
      "text/plain": [
       "<IPython.core.display.HTML object>"
      ]
     },
     "execution_count": 14,
     "metadata": {},
     "output_type": "execute_result"
    }
   ],
   "source": [
    "node_to_color = visJS2jupyter.visJS_module.return_node_to_color(Gd,field_to_map='betweenness_centrality',cmap=mpl.cm.spring_r,alpha = 1,\n",
    "                                                 color_max_frac = .9,color_min_frac = .1)\n",
    "\n",
    "# set node initial positions using networkx's spring_layout function\n",
    "pos = nx.spring_layout(Gd)\n",
    "\n",
    "node_labels = nx.get_node_attributes(Gd,'label')\n",
    "\n",
    "nodes_dict = [{\"id\":n,\"color\":node_to_color[n],\n",
    "               \"degree\":nx.degree(Gd,n),\n",
    "               \"node_label\":node_labels[n],\n",
    "              \"x\":pos[n][0]*1000,\n",
    "              \"y\":pos[n][1]*1000} for n in nodes\n",
    "              ]\n",
    "node_map = dict(zip(nodes,range(len(nodes))))  # map to indices for source/target in edges\n",
    "edges_dict = [{\"source\":node_map[edges[i][0]], \"target\":node_map[edges[i][1]], \n",
    "              \"color\":\"gray\",\"title\":'test'} for i in range(len(edges))]\n",
    "\n",
    "# set some network-wide styles\n",
    "visJS2jupyter.visJS_module.visjs_network(nodes_dict,edges_dict,\n",
    "                          node_size_multiplier=7,\n",
    "                          node_size_transform = '',\n",
    "                          node_color_highlight_border='red',\n",
    "                          node_color_highlight_background='#D3918B',\n",
    "                          node_color_hover_border='blue',\n",
    "                          node_color_hover_background='#8BADD3',\n",
    "                          node_font_size=25,\n",
    "                          node_label_field='node_label',               \n",
    "                          edge_arrow_to=False,\n",
    "                          physics_enabled=True,\n",
    "                          edge_color_highlight='#8A324E',\n",
    "                          edge_color_hover='#8BADD3',\n",
    "                          edge_width=3,\n",
    "                          max_velocity=15,\n",
    "                          min_velocity=1)\n",
    "                         # export_network=True, \n",
    "                          #export_file='network.json')"
   ]
  },
  {
   "cell_type": "code",
   "execution_count": null,
   "metadata": {
    "collapsed": true
   },
   "outputs": [],
   "source": []
  },
  {
   "cell_type": "code",
   "execution_count": null,
   "metadata": {
    "collapsed": true
   },
   "outputs": [],
   "source": []
  },
  {
   "cell_type": "code",
   "execution_count": null,
   "metadata": {
    "collapsed": true
   },
   "outputs": [],
   "source": []
  },
  {
   "cell_type": "code",
   "execution_count": null,
   "metadata": {
    "collapsed": true
   },
   "outputs": [],
   "source": []
  },
  {
   "cell_type": "code",
   "execution_count": null,
   "metadata": {
    "collapsed": true
   },
   "outputs": [],
   "source": []
  }
 ],
 "metadata": {
  "anaconda-cloud": {},
  "kernelspec": {
   "display_name": "Python [conda root]",
   "language": "python",
   "name": "conda-root-py"
  },
  "language_info": {
   "codemirror_mode": {
    "name": "ipython",
    "version": 2
   },
   "file_extension": ".py",
   "mimetype": "text/x-python",
   "name": "python",
   "nbconvert_exporter": "python",
   "pygments_lexer": "ipython2",
   "version": "2.7.12"
  }
 },
 "nbformat": 4,
 "nbformat_minor": 1
}
